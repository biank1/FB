{
 "cells": [
  {
   "cell_type": "code",
   "execution_count": 3,
   "id": "2406487b",
   "metadata": {},
   "outputs": [
    {
     "name": "stdout",
     "output_type": "stream",
     "text": [
      "Enter a number- 4\n",
      "The factorial of  4  is  24\n"
     ]
    }
   ],
   "source": [
    "# 11. Write a python program to find the factorial of a number.\n",
    "\n",
    "number = int(input(\"Enter a number- \"))\n",
    "\n",
    "factorial = 1\n",
    "\n",
    "if number <0:\n",
    "    print(\"Factorial does not exist for negative numbers\")\n",
    "elif number == 0:\n",
    "    print(\"Factorial of 0 is 1\")\n",
    "else:\n",
    "    for i in range (1, number+1):\n",
    "        factorial = factorial*i\n",
    "    print( \"The factorial of \",number,\" is \", factorial)"
   ]
  },
  {
   "cell_type": "code",
   "execution_count": 19,
   "id": "81638266",
   "metadata": {},
   "outputs": [
    {
     "name": "stdout",
     "output_type": "stream",
     "text": [
      "Enter a number- 6\n",
      "6  is a composite number\n"
     ]
    }
   ],
   "source": [
    "# 12. Write a python program to find whether a number is prime or composite\n",
    "\n",
    "number = int(input(\"Enter a number- \"))\n",
    "\n",
    "if number >1:\n",
    "    for i in range(2,number):\n",
    "        if (number%i)==0:\n",
    "            print(number,\" is a composite number\")\n",
    "            break\n",
    "    else:\n",
    "        print(number,\" is a prime number\")\n",
    "if number==0 or number==1:\n",
    "    print(\"Neither prime nor composite\")\n",
    "    "
   ]
  },
  {
   "cell_type": "code",
   "execution_count": 20,
   "id": "b61b0b70",
   "metadata": {},
   "outputs": [
    {
     "name": "stdout",
     "output_type": "stream",
     "text": [
      "Enter the string here: abcdefg\n",
      "This is not a palindrome string\n"
     ]
    }
   ],
   "source": [
    "# 13. Write a python program to check whether a given string is palindrome or not\n",
    "\n",
    "my_str = str(input(\"Enter the string here: \"))\n",
    "\n",
    "#make it suitable for caseless comparison\n",
    "my_str = my_str.casefold()\n",
    "#reverse the string\n",
    "rev_str= reversed(my_str)\n",
    "\n",
    "if list(my_str)==list(rev_str):\n",
    "    print(\"This is a palindrome string\")\n",
    "else:\n",
    "    print(\"This is not a palindrome string\")\n"
   ]
  },
  {
   "cell_type": "code",
   "execution_count": 21,
   "id": "c5e26285",
   "metadata": {},
   "outputs": [],
   "source": [
    "# 14. Write a Python program to get the third side of right-angled triangle from two given side\n",
    "\n",
    "\n",
    "def Pytha_theo(opp_side, adj_side, hypotenuse):\n",
    "    if opp_side == str(\"x\"):\n",
    "        return(\"Opposite side = \"+str(((hypotenuse**2)-(adj_side**2))**0.5))\n",
    "    elif adj_side == str(\"x\"):\n",
    "        return(\"Adjacent side = \"+str(((hypotenuse**2)-(opp_side**2))**0.5))\n",
    "    elif hypotenuse==str(\"x\"):\n",
    "        return(\"Hypotenuse = \"+str(((opp_side**2)+(adj_side**2))**0.5))"
   ]
  },
  {
   "cell_type": "code",
   "execution_count": 26,
   "id": "b3b941e0",
   "metadata": {},
   "outputs": [
    {
     "data": {
      "text/plain": [
       "'Hypotenuse = 5.0'"
      ]
     },
     "execution_count": 26,
     "metadata": {},
     "output_type": "execute_result"
    }
   ],
   "source": [
    "Pytha_theo(3,4,'x')"
   ]
  },
  {
   "cell_type": "code",
   "execution_count": 31,
   "id": "264fa7a2",
   "metadata": {},
   "outputs": [
    {
     "name": "stdout",
     "output_type": "stream",
     "text": [
      "Enter the string: utrhjjeuu\n",
      "{'u': 3, 't': 1, 'r': 1, 'h': 1, 'j': 2, 'e': 1}\n"
     ]
    }
   ],
   "source": [
    "# 15. Write a python program to print the frequency of each of the characters present in a given string\n",
    "my_str = input(\"Enter the string: \")\n",
    "\n",
    "count=dict()\n",
    "for c in my_str:\n",
    "    if c in count:\n",
    "        count[c]+=1\n",
    "    else:\n",
    "        count[c]=1\n",
    "print(count)"
   ]
  },
  {
   "cell_type": "code",
   "execution_count": null,
   "id": "02271e4b",
   "metadata": {},
   "outputs": [],
   "source": []
  },
  {
   "cell_type": "code",
   "execution_count": null,
   "id": "fa2caf68",
   "metadata": {},
   "outputs": [],
   "source": []
  }
 ],
 "metadata": {
  "kernelspec": {
   "display_name": "Python 3 (ipykernel)",
   "language": "python",
   "name": "python3"
  },
  "language_info": {
   "codemirror_mode": {
    "name": "ipython",
    "version": 3
   },
   "file_extension": ".py",
   "mimetype": "text/x-python",
   "name": "python",
   "nbconvert_exporter": "python",
   "pygments_lexer": "ipython3",
   "version": "3.9.7"
  }
 },
 "nbformat": 4,
 "nbformat_minor": 5
}
