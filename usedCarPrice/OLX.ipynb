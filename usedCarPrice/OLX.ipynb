{
 "cells": [
  {
   "cell_type": "code",
   "execution_count": 1,
   "id": "89ac5b27",
   "metadata": {},
   "outputs": [],
   "source": [
    "import selenium\n",
    "import pandas as pd\n",
    "from selenium import webdriver\n",
    "import warnings\n",
    "warnings.filterwarnings('ignore')\n",
    "from selenium.common.exceptions import StaleElementReferenceException, NoSuchElementException\n",
    "from selenium.webdriver.common.by import By\n",
    "\n",
    "import time"
   ]
  },
  {
   "cell_type": "code",
   "execution_count": null,
   "id": "fb569d17",
   "metadata": {},
   "outputs": [],
   "source": []
  },
  {
   "cell_type": "code",
   "execution_count": 2,
   "id": "bf855729",
   "metadata": {
    "scrolled": true
   },
   "outputs": [],
   "source": [
    "driver=webdriver.Chrome(r\"C:\\Users\\bipas\\Downloads\\chromedriver_win32\\chromedriver.exe\")"
   ]
  },
  {
   "cell_type": "code",
   "execution_count": 3,
   "id": "ce8ae5c6",
   "metadata": {},
   "outputs": [],
   "source": [
    "driver.get(\"https://www.olx.in/\")"
   ]
  },
  {
   "cell_type": "code",
   "execution_count": 4,
   "id": "087b0dd0",
   "metadata": {},
   "outputs": [],
   "source": [
    "cars=driver.find_element(By.XPATH,\"/html/body/div[1]/div/div[1]/div/div/div[1]/div[2]/div[1]/a/span\")\n",
    "cars.click()\n"
   ]
  },
  {
   "cell_type": "code",
   "execution_count": 8,
   "id": "5d7b747a",
   "metadata": {},
   "outputs": [],
   "source": [
    "for i in range (1,2):\n",
    "    button = driver.find_element(By.XPATH, \"//button[@class='rui-39-wj rui-3evoE rui-1JPTg']\")\n",
    "    button.click()\n",
    "    i+=1"
   ]
  },
  {
   "cell_type": "code",
   "execution_count": null,
   "id": "02a535fd",
   "metadata": {},
   "outputs": [],
   "source": []
  },
  {
   "cell_type": "code",
   "execution_count": 9,
   "id": "af8e4a61",
   "metadata": {},
   "outputs": [],
   "source": [
    "Brand=[]\n",
    "model=[] \n",
    "variant=[] \n",
    "year=[] \n",
    "kilometers=[] \n",
    "fuel=[] \n",
    "number_of_owners=[] \n",
    "location=[] \n",
    "Price=[]\n",
    "urls=[]"
   ]
  },
  {
   "cell_type": "code",
   "execution_count": null,
   "id": "8770f86e",
   "metadata": {},
   "outputs": [],
   "source": [
    "start=0\n",
    "end=10\n",
    "#scraping 10 pages url\n",
    "url_1 = driver.find_elements(By.XPATH,\"/html/body/div[1]/div/main/div/div/section/div/div/div[5]/div[2]/div/div[2]/ul/li[5]/a\")\n",
    "for i in url_1:\n",
    "    urls.append(i.get_attribute('href'))\n",
    "url_2 = driver.find_elements(By.XPATH,\"//a[@class='ge-49M']\")\n",
    "for i in url_2:\n",
    "    urls.append(i.get_attribute('href'))\n",
    "time.sleep(4)\n",
    "\n",
    "\n",
    "for i in urls:\n",
    "    driver.get(i)\n",
    "    #for scrapping the number of stars\n",
    "    for j in driver.find_elements(By.XPATH,\"//div[@class='col _2wzgFH K0kLPL']/div[1]/div[1]\"):\n",
    "        stars.append(j.text)\n",
    "    #for scrapping the short review\n",
    "    for k in driver.find_elements(By.XPATH,\"//p[@class='_2-N8zT']\"):\n",
    "        short_review.append(k.text)\n",
    "    #for scrapping the complete review\n",
    "    for l in driver.find_elements(By.XPATH,\"//div[@class='t-ZTKy']/div/div\"):\n",
    "        complete_review.append(l.text)"
   ]
  },
  {
   "cell_type": "code",
   "execution_count": 10,
   "id": "86eadc26",
   "metadata": {},
   "outputs": [],
   "source": [
    "elements = driver.find_elements(By.XPATH,\"//img[@class='_2hBzJ']\")\n",
    "for i in elements[0:120]:\n",
    "    brand_tags=driver.find_elements(By.XPATH,\"//div[@class='_2Gr10']\")\n",
    "    for j in brand_tags:\n",
    "        Brand.append(j.text)\n",
    "    model_tags=driver.find_element(By.XPATH,\"//div[@class='_2iMMO']\")\n",
    "    for k in model_tags:\n",
    "        model.append(model_tags.text) \n",
    "    variant_tags=driver.find_element(By.XPATH,\"//div[@class='BxCeR']\")\n",
    "    for l in variant_tags:\n",
    "        variant.append(variant_tags.text)\n"
   ]
  },
  {
   "cell_type": "code",
   "execution_count": 11,
   "id": "41450676",
   "metadata": {},
   "outputs": [
    {
     "name": "stdout",
     "output_type": "stream",
     "text": [
      "2000\n"
     ]
    }
   ],
   "source": [
    "print(len(Brand))"
   ]
  },
  {
   "cell_type": "code",
   "execution_count": 8,
   "id": "db03546e",
   "metadata": {},
   "outputs": [],
   "source": [
    "brand_tags=driver.find_element(By.XPATH,\"//div[@class='_2iMMO']\")\n",
    "Brand.append(brand_tags.text)\n",
    "\n",
    "model_tags=driver.find_element(By.XPATH,\"//div[@class='_2iMMO']\")\n",
    "model.append(model_tags.text)\n",
    "\n",
    "\n",
    "\n",
    "\n",
    "\n",
    "km_tags=driver.find_element(By.XPATH,\"/html/body/div[1]/div/main/div/div/div/div[6]/div[1]/div[2]/div[1]/div/div[4]/div[2]/div\")\n",
    "kilometers.append(km_tags.text)\n",
    "\n",
    "fuel_tags=driver.find_element(By.XPATH,\"/html/body/div[1]/div/main/div/div/div/div[6]/div[1]/div[2]/div[1]/div/div[4]/div[1]/div\")\n",
    "fuel.append(fuel_tags.text)\n",
    "\n",
    "number_of_owners_tags=driver.find_element(By.XPATH,\"/html/body/div[1]/div/main/div/div/div/div[6]/div[1]/div[3]/div/div[2]/div/div[1]/div[2]/div[2]\")\n",
    "number_of_owners.append(number_of_owners_tags.text)\n",
    "\n",
    "location_tags=driver.find_element(By.XPATH,\"/html/body/div[1]/div/main/div/div/div/div[6]/div[1]/div[3]/div/div[2]/div/div[2]/div[2]/div[2]\")\n",
    "location.append(location_tags.text)\n",
    "\n",
    "price_tags=driver.find_element(By.XPATH,\"//div[@class='_1uqlc']\")\n",
    "Price.append(price_tags.text)\n"
   ]
  },
  {
   "cell_type": "code",
   "execution_count": 9,
   "id": "2efdca2b",
   "metadata": {},
   "outputs": [
    {
     "data": {
      "text/plain": [
       "['Palam, Delhi']"
      ]
     },
     "execution_count": 9,
     "metadata": {},
     "output_type": "execute_result"
    }
   ],
   "source": [
    "location"
   ]
  },
  {
   "cell_type": "code",
   "execution_count": 25,
   "id": "3c7dcdbd",
   "metadata": {},
   "outputs": [
    {
     "data": {
      "text/plain": [
       "['https://www.olx.in/item/audi-a4-20-tdi-2015-diesel-iid-1689227689']"
      ]
     },
     "execution_count": 25,
     "metadata": {},
     "output_type": "execute_result"
    }
   ],
   "source": [
    "urls"
   ]
  },
  {
   "cell_type": "code",
   "execution_count": null,
   "id": "df00f363",
   "metadata": {},
   "outputs": [],
   "source": [
    "url_2 = driver.find_elements(By.XPATH,\"//a[@class='ge-49M']\")\n",
    "for i in url_2:\n",
    "    urls.append(i.get_attribute('href'))\n",
    "time.sleep(4)\n",
    "\n",
    "\n",
    "for i in urls:\n",
    "    driver.get(i)\n",
    "    #for scrapping \n",
    "    the number of stars\n",
    "    for j in driver.find_elements(By.XPATH,\"//div[@class='col _2wzgFH K0kLPL']/div[1]/div[1]\"):\n",
    "        stars.append(j.text)\n",
    "    #for scrapping the short review\n",
    "    for k in driver.find_elements(By.XPATH,\"//p[@class='_2-N8zT']\"):\n",
    "        short_review.append(k.text)\n",
    "    #for scrapping the complete review\n",
    "    for l in driver.find_elements(By.XPATH,\"//div[@class='t-ZTKy']/div/div\"):\n",
    "        complete_review.append(l.text)\n"
   ]
  }
 ],
 "metadata": {
  "kernelspec": {
   "display_name": "Python 3 (ipykernel)",
   "language": "python",
   "name": "python3"
  },
  "language_info": {
   "codemirror_mode": {
    "name": "ipython",
    "version": 3
   },
   "file_extension": ".py",
   "mimetype": "text/x-python",
   "name": "python",
   "nbconvert_exporter": "python",
   "pygments_lexer": "ipython3",
   "version": "3.9.7"
  }
 },
 "nbformat": 4,
 "nbformat_minor": 5
}
