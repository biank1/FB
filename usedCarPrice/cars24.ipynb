{
 "cells": [
  {
   "cell_type": "code",
   "execution_count": 1,
   "id": "ec928f3e",
   "metadata": {},
   "outputs": [],
   "source": [
    "import selenium\n",
    "import pandas as pd\n",
    "from selenium import webdriver\n",
    "import warnings\n",
    "warnings.filterwarnings('ignore')\n",
    "from selenium.common.exceptions import StaleElementReferenceException, NoSuchElementException\n",
    "from selenium.webdriver.common.by import By\n",
    "\n",
    "import time"
   ]
  },
  {
   "cell_type": "code",
   "execution_count": 2,
   "id": "5f208a42",
   "metadata": {},
   "outputs": [],
   "source": [
    "driver=webdriver.Chrome(r\"C:\\Users\\bipas\\Downloads\\chromedriver_win32\\chromedriver.exe\")"
   ]
  },
  {
   "cell_type": "code",
   "execution_count": 3,
   "id": "e4cd6ed1",
   "metadata": {},
   "outputs": [],
   "source": [
    "driver.get(\"https://www.cars24.com/\")\n"
   ]
  },
  {
   "cell_type": "code",
   "execution_count": null,
   "id": "310102e2",
   "metadata": {},
   "outputs": [],
   "source": []
  },
  {
   "cell_type": "code",
   "execution_count": 4,
   "id": "668964f0",
   "metadata": {},
   "outputs": [],
   "source": [
    "cars=driver.find_element(By.XPATH,\"//button[@class='btn  _2iiQB _3qpfi ']\")\n",
    "cars.click()"
   ]
  },
  {
   "cell_type": "code",
   "execution_count": 5,
   "id": "dc6c00a5",
   "metadata": {},
   "outputs": [],
   "source": [
    "brand=[]\n",
    "model=[] \n",
    "variant=[] \n",
    "year=[] \n",
    "kilometers=[] \n",
    "fuel=[] \n",
    "number_of_owners=[] \n",
    "Location=[] \n",
    "Sale_Price=[]\n",
    "urls=[]"
   ]
  },
  {
   "cell_type": "code",
   "execution_count": 8,
   "id": "f24d00ee",
   "metadata": {},
   "outputs": [],
   "source": [
    "button=driver.find_element(By.XPATH,\"/html/body/div[1]/div[1]/header/div/div[2]/ul/li[1]/a\")\n",
    "button.click()"
   ]
  },
  {
   "cell_type": "code",
   "execution_count": 10,
   "id": "a31f9a06",
   "metadata": {},
   "outputs": [],
   "source": [
    "location=driver.find_element(By.XPATH,\"/html/body/div[1]/div[8]/div/div/div/div[2]/div[2]/button\")\n",
    "location.click()"
   ]
  },
  {
   "cell_type": "code",
   "execution_count": 11,
   "id": "353c4c40",
   "metadata": {},
   "outputs": [],
   "source": [
    "delhi=driver.find_element(By.XPATH,\"/html/body/div[1]/div[8]/div/div/div/div/div[2]/ul/li[5]/a/span/img\")\n",
    "delhi.click()\n",
    "\n"
   ]
  },
  {
   "cell_type": "code",
   "execution_count": 12,
   "id": "70affb46",
   "metadata": {},
   "outputs": [
    {
     "name": "stdout",
     "output_type": "stream",
     "text": [
      "1069\n"
     ]
    },
    {
     "ename": "WebDriverException",
     "evalue": "Message: unknown error: net::ERR_CONNECTION_CLOSED\n  (Session info: chrome=107.0.5304.107)\nStacktrace:\nBacktrace:\n\tOrdinal0 [0x0107ACD3+2075859]\n\tOrdinal0 [0x0100EE61+1633889]\n\tOrdinal0 [0x00F0B7BD+571325]\n\tOrdinal0 [0x00F07CD2+556242]\n\tOrdinal0 [0x00EFEC5D+519261]\n\tOrdinal0 [0x00EFFAEC+522988]\n\tOrdinal0 [0x00EFEF27+519975]\n\tOrdinal0 [0x00EFE2EB+516843]\n\tOrdinal0 [0x00EFE231+516657]\n\tOrdinal0 [0x00EFD0A3+512163]\n\tOrdinal0 [0x00EFD5AD+513453]\n\tOrdinal0 [0x00F0D0CE+577742]\n\tOrdinal0 [0x00F6BC7D+965757]\n\tOrdinal0 [0x00F5731C+881436]\n\tOrdinal0 [0x00F6B56A+963946]\n\tOrdinal0 [0x00F57136+880950]\n\tOrdinal0 [0x00F2FEFD+720637]\n\tOrdinal0 [0x00F30F3F+724799]\n\tGetHandleVerifier [0x0132EED2+2769538]\n\tGetHandleVerifier [0x01320D95+2711877]\n\tGetHandleVerifier [0x0110A03A+521194]\n\tGetHandleVerifier [0x01108DA0+516432]\n\tOrdinal0 [0x0101682C+1665068]\n\tOrdinal0 [0x0101B128+1683752]\n\tOrdinal0 [0x0101B215+1683989]\n\tOrdinal0 [0x01026484+1729668]\n\tBaseThreadInitThunk [0x75876939+25]\n\tRtlGetFullPathName_UEx [0x77118FD2+1218]\n\tRtlGetFullPathName_UEx [0x77118F9D+1165]\n",
     "output_type": "error",
     "traceback": [
      "\u001b[1;31m---------------------------------------------------------------------------\u001b[0m",
      "\u001b[1;31mWebDriverException\u001b[0m                        Traceback (most recent call last)",
      "\u001b[1;32m~\\AppData\\Local\\Temp/ipykernel_15776/3166577453.py\u001b[0m in \u001b[0;36m<module>\u001b[1;34m\u001b[0m\n\u001b[0;32m     10\u001b[0m \u001b[1;33m\u001b[0m\u001b[0m\n\u001b[0;32m     11\u001b[0m \u001b[1;32mfor\u001b[0m \u001b[0mi\u001b[0m \u001b[1;32min\u001b[0m \u001b[0murls\u001b[0m\u001b[1;33m:\u001b[0m\u001b[1;33m\u001b[0m\u001b[1;33m\u001b[0m\u001b[0m\n\u001b[1;32m---> 12\u001b[1;33m     \u001b[0mdriver\u001b[0m\u001b[1;33m.\u001b[0m\u001b[0mget\u001b[0m\u001b[1;33m(\u001b[0m\u001b[0mi\u001b[0m\u001b[1;33m)\u001b[0m\u001b[1;33m\u001b[0m\u001b[1;33m\u001b[0m\u001b[0m\n\u001b[0m\u001b[0;32m     13\u001b[0m     \u001b[0mtime\u001b[0m\u001b[1;33m.\u001b[0m\u001b[0msleep\u001b[0m\u001b[1;33m(\u001b[0m\u001b[1;36m10\u001b[0m\u001b[1;33m)\u001b[0m\u001b[1;33m\u001b[0m\u001b[1;33m\u001b[0m\u001b[0m\n\u001b[0;32m     14\u001b[0m     \u001b[1;31m#for scrapping the number of stars\u001b[0m\u001b[1;33m\u001b[0m\u001b[1;33m\u001b[0m\u001b[0m\n",
      "\u001b[1;32m~\\anaconda3\\lib\\site-packages\\selenium\\webdriver\\remote\\webdriver.py\u001b[0m in \u001b[0;36mget\u001b[1;34m(self, url)\u001b[0m\n\u001b[0;32m    438\u001b[0m         \u001b[0mLoads\u001b[0m \u001b[0ma\u001b[0m \u001b[0mweb\u001b[0m \u001b[0mpage\u001b[0m \u001b[1;32min\u001b[0m \u001b[0mthe\u001b[0m \u001b[0mcurrent\u001b[0m \u001b[0mbrowser\u001b[0m \u001b[0msession\u001b[0m\u001b[1;33m.\u001b[0m\u001b[1;33m\u001b[0m\u001b[1;33m\u001b[0m\u001b[0m\n\u001b[0;32m    439\u001b[0m         \"\"\"\n\u001b[1;32m--> 440\u001b[1;33m         \u001b[0mself\u001b[0m\u001b[1;33m.\u001b[0m\u001b[0mexecute\u001b[0m\u001b[1;33m(\u001b[0m\u001b[0mCommand\u001b[0m\u001b[1;33m.\u001b[0m\u001b[0mGET\u001b[0m\u001b[1;33m,\u001b[0m \u001b[1;33m{\u001b[0m\u001b[1;34m'url'\u001b[0m\u001b[1;33m:\u001b[0m \u001b[0murl\u001b[0m\u001b[1;33m}\u001b[0m\u001b[1;33m)\u001b[0m\u001b[1;33m\u001b[0m\u001b[1;33m\u001b[0m\u001b[0m\n\u001b[0m\u001b[0;32m    441\u001b[0m \u001b[1;33m\u001b[0m\u001b[0m\n\u001b[0;32m    442\u001b[0m     \u001b[1;33m@\u001b[0m\u001b[0mproperty\u001b[0m\u001b[1;33m\u001b[0m\u001b[1;33m\u001b[0m\u001b[0m\n",
      "\u001b[1;32m~\\anaconda3\\lib\\site-packages\\selenium\\webdriver\\remote\\webdriver.py\u001b[0m in \u001b[0;36mexecute\u001b[1;34m(self, driver_command, params)\u001b[0m\n\u001b[0;32m    426\u001b[0m         \u001b[0mresponse\u001b[0m \u001b[1;33m=\u001b[0m \u001b[0mself\u001b[0m\u001b[1;33m.\u001b[0m\u001b[0mcommand_executor\u001b[0m\u001b[1;33m.\u001b[0m\u001b[0mexecute\u001b[0m\u001b[1;33m(\u001b[0m\u001b[0mdriver_command\u001b[0m\u001b[1;33m,\u001b[0m \u001b[0mparams\u001b[0m\u001b[1;33m)\u001b[0m\u001b[1;33m\u001b[0m\u001b[1;33m\u001b[0m\u001b[0m\n\u001b[0;32m    427\u001b[0m         \u001b[1;32mif\u001b[0m \u001b[0mresponse\u001b[0m\u001b[1;33m:\u001b[0m\u001b[1;33m\u001b[0m\u001b[1;33m\u001b[0m\u001b[0m\n\u001b[1;32m--> 428\u001b[1;33m             \u001b[0mself\u001b[0m\u001b[1;33m.\u001b[0m\u001b[0merror_handler\u001b[0m\u001b[1;33m.\u001b[0m\u001b[0mcheck_response\u001b[0m\u001b[1;33m(\u001b[0m\u001b[0mresponse\u001b[0m\u001b[1;33m)\u001b[0m\u001b[1;33m\u001b[0m\u001b[1;33m\u001b[0m\u001b[0m\n\u001b[0m\u001b[0;32m    429\u001b[0m             response['value'] = self._unwrap_value(\n\u001b[0;32m    430\u001b[0m                 response.get('value', None))\n",
      "\u001b[1;32m~\\anaconda3\\lib\\site-packages\\selenium\\webdriver\\remote\\errorhandler.py\u001b[0m in \u001b[0;36mcheck_response\u001b[1;34m(self, response)\u001b[0m\n\u001b[0;32m    241\u001b[0m                 \u001b[0malert_text\u001b[0m \u001b[1;33m=\u001b[0m \u001b[0mvalue\u001b[0m\u001b[1;33m[\u001b[0m\u001b[1;34m'alert'\u001b[0m\u001b[1;33m]\u001b[0m\u001b[1;33m.\u001b[0m\u001b[0mget\u001b[0m\u001b[1;33m(\u001b[0m\u001b[1;34m'text'\u001b[0m\u001b[1;33m)\u001b[0m\u001b[1;33m\u001b[0m\u001b[1;33m\u001b[0m\u001b[0m\n\u001b[0;32m    242\u001b[0m             \u001b[1;32mraise\u001b[0m \u001b[0mexception_class\u001b[0m\u001b[1;33m(\u001b[0m\u001b[0mmessage\u001b[0m\u001b[1;33m,\u001b[0m \u001b[0mscreen\u001b[0m\u001b[1;33m,\u001b[0m \u001b[0mstacktrace\u001b[0m\u001b[1;33m,\u001b[0m \u001b[0malert_text\u001b[0m\u001b[1;33m)\u001b[0m  \u001b[1;31m# type: ignore[call-arg]  # mypy is not smart enough here\u001b[0m\u001b[1;33m\u001b[0m\u001b[1;33m\u001b[0m\u001b[0m\n\u001b[1;32m--> 243\u001b[1;33m         \u001b[1;32mraise\u001b[0m \u001b[0mexception_class\u001b[0m\u001b[1;33m(\u001b[0m\u001b[0mmessage\u001b[0m\u001b[1;33m,\u001b[0m \u001b[0mscreen\u001b[0m\u001b[1;33m,\u001b[0m \u001b[0mstacktrace\u001b[0m\u001b[1;33m)\u001b[0m\u001b[1;33m\u001b[0m\u001b[1;33m\u001b[0m\u001b[0m\n\u001b[0m",
      "\u001b[1;31mWebDriverException\u001b[0m: Message: unknown error: net::ERR_CONNECTION_CLOSED\n  (Session info: chrome=107.0.5304.107)\nStacktrace:\nBacktrace:\n\tOrdinal0 [0x0107ACD3+2075859]\n\tOrdinal0 [0x0100EE61+1633889]\n\tOrdinal0 [0x00F0B7BD+571325]\n\tOrdinal0 [0x00F07CD2+556242]\n\tOrdinal0 [0x00EFEC5D+519261]\n\tOrdinal0 [0x00EFFAEC+522988]\n\tOrdinal0 [0x00EFEF27+519975]\n\tOrdinal0 [0x00EFE2EB+516843]\n\tOrdinal0 [0x00EFE231+516657]\n\tOrdinal0 [0x00EFD0A3+512163]\n\tOrdinal0 [0x00EFD5AD+513453]\n\tOrdinal0 [0x00F0D0CE+577742]\n\tOrdinal0 [0x00F6BC7D+965757]\n\tOrdinal0 [0x00F5731C+881436]\n\tOrdinal0 [0x00F6B56A+963946]\n\tOrdinal0 [0x00F57136+880950]\n\tOrdinal0 [0x00F2FEFD+720637]\n\tOrdinal0 [0x00F30F3F+724799]\n\tGetHandleVerifier [0x0132EED2+2769538]\n\tGetHandleVerifier [0x01320D95+2711877]\n\tGetHandleVerifier [0x0110A03A+521194]\n\tGetHandleVerifier [0x01108DA0+516432]\n\tOrdinal0 [0x0101682C+1665068]\n\tOrdinal0 [0x0101B128+1683752]\n\tOrdinal0 [0x0101B215+1683989]\n\tOrdinal0 [0x01026484+1729668]\n\tBaseThreadInitThunk [0x75876939+25]\n\tRtlGetFullPathName_UEx [0x77118FD2+1218]\n\tRtlGetFullPathName_UEx [0x77118F9D+1165]\n"
     ]
    }
   ],
   "source": [
    "#scraping 10 pages url\n",
    "for _ in range(50000):\n",
    "    driver.execute_script(\"window.scrollBy(0,1000)\")\n",
    "url_1 = driver.find_elements(By.XPATH,\"//a[@class='_9Ue0B']\")\n",
    "for i in url_1:\n",
    "    urls.append(i.get_attribute('href'))\n",
    "#urls\n",
    "\n",
    "print(len(url_1))\n",
    "\n",
    "for i in urls:\n",
    "    driver.get(i)\n",
    "    time.sleep(10)\n",
    "    #for scrapping the number of stars\n",
    "#    for j in driver.find_elements(By.XPATH,\"/html/body/div[1]/div[3]/div/div/div/div[1]/div[2]/h2\"):\n",
    "#    xpath= \"/html/body/div[1]/div[3]/div/div/div/div[1]/div[2]/h2\" \n",
    "#    for j in driver.find_elements(By.XPATH,\"/html/body/div[1]/div[3]/div/div/div/div[1]/div[2]/h2\"):                       :\n",
    "#        brand.append(j.text)\n",
    "#        year.append(j.text)/html/body/div[1]/div[3]/div/div/div/div[1]/div[2]/h2\n",
    "    for k in driver.find_elements(By.XPATH,\"/html/body/div[1]/div[3]/div/div/div/div[1]/div[2]/h2\"):\n",
    "        brand.append(k.text)\n",
    "    for l in driver.find_elements(By.XPATH,\"/html/body/div[1]/div[3]/div/div/div/div[1]/div[2]/ul/li[7]\"):\n",
    "        variant.append(l.text)\n",
    "    for m in driver.find_elements(By.XPATH,\"/html/body/div[1]/div[3]/div/div/div/div[1]/div[2]/ul/li[1]\"):\n",
    "        kilometers.append(m.text)\n",
    "    for n in driver.find_elements(By.XPATH,\"/html/body/div[1]/div[3]/div/div/div/div[1]/div[2]/ul/li[3]\"):\n",
    "        fuel.append(n.text)    \n",
    "    for o in driver.find_elements(By.XPATH,\"/html/body/div[1]/div[3]/div/div/div/div[1]/div[2]/ul/li[5]\"):\n",
    "        number_of_owners.append(o.text)\n",
    "        Location.append('New_Delhi')\n",
    "    for p in driver.find_elements(By.XPATH,\"/html/body/div[1]/div[3]/div/div/div/div[1]/div[3]/strong\"):\n",
    "        Sale_Price.append(p.text)\n",
    "    "
   ]
  },
  {
   "cell_type": "code",
   "execution_count": null,
   "id": "88660745",
   "metadata": {},
   "outputs": [],
   "source": []
  },
  {
   "cell_type": "code",
   "execution_count": null,
   "id": "452227f6",
   "metadata": {},
   "outputs": [],
   "source": []
  },
  {
   "cell_type": "code",
   "execution_count": null,
   "id": "ae955034",
   "metadata": {},
   "outputs": [],
   "source": []
  },
  {
   "cell_type": "code",
   "execution_count": 30,
   "id": "ae8cdd67",
   "metadata": {},
   "outputs": [],
   "source": [
    "df.to_csv('UsedCarPrice1.csv')"
   ]
  },
  {
   "cell_type": "code",
   "execution_count": null,
   "id": "3b3590cc",
   "metadata": {},
   "outputs": [],
   "source": []
  }
 ],
 "metadata": {
  "kernelspec": {
   "display_name": "Python 3 (ipykernel)",
   "language": "python",
   "name": "python3"
  },
  "language_info": {
   "codemirror_mode": {
    "name": "ipython",
    "version": 3
   },
   "file_extension": ".py",
   "mimetype": "text/x-python",
   "name": "python",
   "nbconvert_exporter": "python",
   "pygments_lexer": "ipython3",
   "version": "3.9.7"
  }
 },
 "nbformat": 4,
 "nbformat_minor": 5
}
