{
 "cells": [
  {
   "cell_type": "code",
   "execution_count": 2,
   "id": "aac606d9",
   "metadata": {},
   "outputs": [],
   "source": [
    "import selenium\n",
    "import pandas as pd\n",
    "from selenium import webdriver\n",
    "import warnings\n",
    "warnings.filterwarnings('ignore')\n",
    "from selenium.common.exceptions import StaleElementReferenceException, NoSuchElementException\n",
    "from selenium.webdriver.common.by import By\n",
    "\n",
    "import time"
   ]
  },
  {
   "cell_type": "code",
   "execution_count": 6,
   "id": "58bfa527",
   "metadata": {},
   "outputs": [],
   "source": [
    "# Importing Libraries\n",
    "import selenium\n",
    "import pandas as pd\n",
    "import time\n",
    "from bs4 import BeautifulSoup\n",
    "\n",
    "# Importing selenium webdriver \n",
    "from selenium import webdriver\n",
    "\n",
    "# Importing required Exceptions which needs to handled\n",
    "from selenium.common.exceptions import StaleElementReferenceException, NoSuchElementException\n",
    "\n",
    "#Importing requests\n",
    "import requests\n",
    "\n",
    "# importing regex\n",
    "import re"
   ]
  },
  {
   "cell_type": "markdown",
   "id": "82074d75",
   "metadata": {},
   "source": [
    "# Q1. Scrape the details of most viewed videos on YouTube from Wikipedia.\n",
    "Url = https://en.wikipedia.org/wiki/List_of_most-viewed_YouTube_videos\n",
    "You need to find following details:\n",
    "A) Rank\n",
    "B) Name\n",
    "C) Artist\n",
    "D) Upload date\n",
    "E) Views"
   ]
  },
  {
   "cell_type": "code",
   "execution_count": 2,
   "id": "5123f1e8",
   "metadata": {},
   "outputs": [],
   "source": [
    "# Lets first connect to the web driver\n",
    "driver=webdriver.Chrome(r\"C:\\Users\\bipas\\Downloads\\chromedriver_win32\\chromedriver.exe\")"
   ]
  },
  {
   "cell_type": "code",
   "execution_count": 3,
   "id": "e1175445",
   "metadata": {},
   "outputs": [],
   "source": [
    "driver.get(\"https://en.wikipedia.org/wiki/List_of_most-viewed_YouTube_videos\")"
   ]
  },
  {
   "cell_type": "code",
   "execution_count": 4,
   "id": "47fb2bdd",
   "metadata": {},
   "outputs": [],
   "source": [
    "Rank=[]\n",
    "Name=[]\n",
    "Artist=[]\n",
    "Upload_Date=[]\n",
    "Views=[]"
   ]
  },
  {
   "cell_type": "code",
   "execution_count": 6,
   "id": "e069b51d",
   "metadata": {},
   "outputs": [],
   "source": [
    "table=driver.find_elements(By.XPATH,\"//table[@class='wikitable sortable jquery-tablesorter']\")\n",
    "for i in table:\n",
    "    title=i.text\n",
    "    Rank.append(title)\n",
    "\n"
   ]
  },
  {
   "cell_type": "code",
   "execution_count": 7,
   "id": "7a03ddc6",
   "metadata": {},
   "outputs": [
    {
     "data": {
      "text/html": [
       "<div>\n",
       "<style scoped>\n",
       "    .dataframe tbody tr th:only-of-type {\n",
       "        vertical-align: middle;\n",
       "    }\n",
       "\n",
       "    .dataframe tbody tr th {\n",
       "        vertical-align: top;\n",
       "    }\n",
       "\n",
       "    .dataframe thead th {\n",
       "        text-align: right;\n",
       "    }\n",
       "</style>\n",
       "<table border=\"1\" class=\"dataframe\">\n",
       "  <thead>\n",
       "    <tr style=\"text-align: right;\">\n",
       "      <th></th>\n",
       "      <th>rank</th>\n",
       "    </tr>\n",
       "  </thead>\n",
       "  <tbody>\n",
       "    <tr>\n",
       "      <th>0</th>\n",
       "      <td>Top 30 most-viewed YouTube videos[2]\\nNo. Vide...</td>\n",
       "    </tr>\n",
       "    <tr>\n",
       "      <th>1</th>\n",
       "      <td>Progression of the most-viewed video on YouTub...</td>\n",
       "    </tr>\n",
       "    <tr>\n",
       "      <th>2</th>\n",
       "      <td>Top 30 most-viewed YouTube videos[2]\\nNo. Vide...</td>\n",
       "    </tr>\n",
       "    <tr>\n",
       "      <th>3</th>\n",
       "      <td>Progression of the most-viewed video on YouTub...</td>\n",
       "    </tr>\n",
       "  </tbody>\n",
       "</table>\n",
       "</div>"
      ],
      "text/plain": [
       "                                                rank\n",
       "0  Top 30 most-viewed YouTube videos[2]\\nNo. Vide...\n",
       "1  Progression of the most-viewed video on YouTub...\n",
       "2  Top 30 most-viewed YouTube videos[2]\\nNo. Vide...\n",
       "3  Progression of the most-viewed video on YouTub..."
      ]
     },
     "execution_count": 7,
     "metadata": {},
     "output_type": "execute_result"
    }
   ],
   "source": [
    "df = pd.DataFrame({'rank':Rank})\n",
    "df"
   ]
  },
  {
   "cell_type": "markdown",
   "id": "3fb7b788",
   "metadata": {},
   "source": [
    "# Scrape the details team India’s international fixtures from bcci.tv.\n",
    "Url = https://www.bcci.tv/.\n",
    "You need to find following details:\n",
    "A) Match title (I.e. 1\n",
    "st ODI)\n",
    "B) Series\n",
    "C) Place\n",
    "D) Date\n",
    "E) Time\n",
    "Note: - From bcci.tv home page you have reach to the international fixture page through code"
   ]
  },
  {
   "cell_type": "code",
   "execution_count": 42,
   "id": "80d79f8a",
   "metadata": {},
   "outputs": [],
   "source": [
    "# Lets first connect to the web driver\n",
    "driver=webdriver.Chrome(r\"C:\\Users\\bipas\\Downloads\\chromedriver_win32\\chromedriver.exe\")"
   ]
  },
  {
   "cell_type": "code",
   "execution_count": 43,
   "id": "74a084eb",
   "metadata": {},
   "outputs": [],
   "source": [
    "driver.get(\"https://www.bcci.tv/\")"
   ]
  },
  {
   "cell_type": "code",
   "execution_count": 44,
   "id": "7aa67f7f",
   "metadata": {},
   "outputs": [],
   "source": [
    "Match_title=[]\n",
    "Series=[]\n",
    "Place=[]\n",
    "Date=[]\n",
    "Time=[]"
   ]
  },
  {
   "cell_type": "code",
   "execution_count": 45,
   "id": "566600e7",
   "metadata": {},
   "outputs": [],
   "source": [
    "#Reaching the International page\n",
    "Intnatl = driver.find_element(By.XPATH,'/html/body/nav/div[1]/div[2]/ul[1]/li[2]/a')\n",
    "Intnatl.click()"
   ]
  },
  {
   "cell_type": "code",
   "execution_count": 46,
   "id": "234bed6e",
   "metadata": {},
   "outputs": [],
   "source": [
    "#Reaching the fixtures page\n",
    "fix = driver.find_element(By.XPATH,'/html/body/div[2]/div[1]/div/ul/li[1]/a')\n",
    "fix.click()\n",
    "\n"
   ]
  },
  {
   "cell_type": "code",
   "execution_count": 47,
   "id": "3dc123ac",
   "metadata": {},
   "outputs": [],
   "source": [
    "Match_title = []\n",
    "Series =[]\n",
    "Place=[]\n",
    "Date =[] \n",
    "Time = []"
   ]
  },
  {
   "cell_type": "code",
   "execution_count": 55,
   "id": "c6f7f202",
   "metadata": {},
   "outputs": [
    {
     "ename": "IndexError",
     "evalue": "list index out of range",
     "output_type": "error",
     "traceback": [
      "\u001b[1;31m---------------------------------------------------------------------------\u001b[0m",
      "\u001b[1;31mIndexError\u001b[0m                                Traceback (most recent call last)",
      "\u001b[1;32m~\\AppData\\Local\\Temp/ipykernel_20960/218210744.py\u001b[0m in \u001b[0;36m<module>\u001b[1;34m\u001b[0m\n\u001b[0;32m     11\u001b[0m \u001b[0mi\u001b[0m\u001b[1;33m=\u001b[0m\u001b[1;36m2\u001b[0m\u001b[1;33m\u001b[0m\u001b[1;33m\u001b[0m\u001b[0m\n\u001b[0;32m     12\u001b[0m \u001b[1;32mfor\u001b[0m \u001b[0melements\u001b[0m \u001b[1;32min\u001b[0m \u001b[0mMatch_title\u001b[0m\u001b[1;33m:\u001b[0m\u001b[1;33m\u001b[0m\u001b[1;33m\u001b[0m\u001b[0m\n\u001b[1;32m---> 13\u001b[1;33m     \u001b[0mMatch_title\u001b[0m\u001b[1;33m[\u001b[0m\u001b[0mi\u001b[0m\u001b[1;33m]\u001b[0m\u001b[1;33m=\u001b[0m\u001b[1;33m(\u001b[0m\u001b[0mMatch_title\u001b[0m\u001b[1;33m[\u001b[0m\u001b[0mi\u001b[0m\u001b[1;33m-\u001b[0m\u001b[1;36m1\u001b[0m\u001b[1;33m]\u001b[0m\u001b[1;33m+\u001b[0m\u001b[1;34m'Vs.'\u001b[0m\u001b[1;33m+\u001b[0m \u001b[0mMatch_title\u001b[0m\u001b[1;33m[\u001b[0m\u001b[0mi\u001b[0m\u001b[1;33m]\u001b[0m\u001b[1;33m)\u001b[0m\u001b[1;33m\u001b[0m\u001b[1;33m\u001b[0m\u001b[0m\n\u001b[0m\u001b[0;32m     14\u001b[0m     \u001b[0mi\u001b[0m\u001b[1;33m=\u001b[0m\u001b[0mi\u001b[0m\u001b[1;33m+\u001b[0m\u001b[1;36m1\u001b[0m\u001b[1;33m\u001b[0m\u001b[1;33m\u001b[0m\u001b[0m\n\u001b[0;32m     15\u001b[0m \u001b[1;33m\u001b[0m\u001b[0m\n",
      "\u001b[1;31mIndexError\u001b[0m: list index out of range"
     ]
    }
   ],
   "source": [
    "#Scrapping Series detail\n",
    "match = driver.find_elements(By.XPATH,'//span[@class=\"ng-binding\"]')      \n",
    "for i in match:\n",
    "    Series.append(i.text)\n",
    "\n",
    "#Scrapping Matches detail\n",
    "matches = driver.find_elements(By.XPATH,'//div[@class=\"match-country-info\"]') \n",
    "j=0\n",
    "for i in matches:\n",
    "    Match_title.append(i.text)\n",
    "i=2   \n",
    "for elements in Match_title:\n",
    "    Match_title[i]=(Match_title[i-1]+'Vs.'+ Match_title[i])\n",
    "    i=i+1\n",
    "    \n",
    "# Scrapping Place\n",
    "places = driver.find_elements(By.XPATH,'//span[@class=\"ng-binding ng-scope\"]')\n",
    "for i in places:\n",
    "    place.append(i.text)\n",
    "\n",
    "# Scrapping Date\n",
    "dates = driver.find_elements(By.XPATH,'//h5[@class=\"ng-binding\"]')\n",
    "for i in dates:\n",
    "    Date.append(i.text)\n",
    "    \n",
    "# Scrapping Time\n",
    "times = driver.find_elements(By.XPATH,'//h5[@class=\"ng-binding\"]')\n",
    "for i in times:\n",
    "    Time.append(i.text)\n"
   ]
  },
  {
   "cell_type": "markdown",
   "id": "1d1e4228",
   "metadata": {},
   "source": [
    "# Q4. Scrape the details of State-wise GDP of India from statisticstime.com.\n",
    "Url = http://statisticstimes.com/\n",
    "You have to find following details\n",
    "A) Rank\n",
    "B) State\n",
    "C) GSDP(18-19)\n",
    "D) GSDP(17-18)\n",
    "E) Share(2017)\n",
    "F) GDP($ billion)\n",
    "Note: - From statisticstimes home page you have to reach to economy page through code"
   ]
  },
  {
   "cell_type": "code",
   "execution_count": 34,
   "id": "e55b8d11",
   "metadata": {},
   "outputs": [],
   "source": [
    "# Lets first connect to the web driver\n",
    "driver=webdriver.Chrome(r\"C:\\Users\\bipas\\Downloads\\chromedriver_win32\\chromedriver.exe\")"
   ]
  },
  {
   "cell_type": "code",
   "execution_count": 35,
   "id": "99aa4c8d",
   "metadata": {},
   "outputs": [],
   "source": [
    "driver.get(\"http://statisticstimes.com/\")"
   ]
  },
  {
   "cell_type": "code",
   "execution_count": 36,
   "id": "ec133803",
   "metadata": {},
   "outputs": [],
   "source": [
    "#  Clicking on home button\n",
    "home=driver.find_element(By.XPATH,\"/html/body/div[2]/div[1]/div[2]/div[1]/button\")\n",
    "home.click()\n",
    "\n",
    "\n",
    "#India link in dropdow\n",
    "India=driver.find_element(By.XPATH,\"/html/body/div[2]/div[1]/div[2]/div[1]/div/a[2]\")\n",
    "driver.get(India.get_attribute('href'))\n",
    "time.sleep(1)"
   ]
  },
  {
   "cell_type": "code",
   "execution_count": 37,
   "id": "e570e525",
   "metadata": {},
   "outputs": [],
   "source": [
    "#  Clicking on Economy button\n",
    "economy=driver.find_element(By.XPATH,\"/html/body/div[2]/div[1]/div[2]/div[1]/button\")\n",
    "economy.click()\n",
    "\n",
    "\n",
    "#India link in dropdow\n",
    "India=driver.find_element(By.XPATH,\"/html/body/div[2]/div[1]/div[2]/div[2]/div/a[3]\")\n",
    "driver.get(India.get_attribute('href'))\n",
    "time.sleep(1)"
   ]
  },
  {
   "cell_type": "code",
   "execution_count": 38,
   "id": "d147f160",
   "metadata": {},
   "outputs": [],
   "source": [
    "Rank=[]\n",
    "State=[]\n",
    "GSDP18=[]\n",
    "GSDP17=[]\n",
    "Share17=[]\n",
    "GDP_billion=[]"
   ]
  },
  {
   "cell_type": "code",
   "execution_count": 39,
   "id": "34331bdb",
   "metadata": {},
   "outputs": [],
   "source": [
    "GDP=driver.find_element(By.XPATH,\"/html/body/div[2]/div[2]/div[2]/ul/li[1]/a\")\n",
    "GDP.click()"
   ]
  },
  {
   "cell_type": "code",
   "execution_count": 40,
   "id": "ce633e48",
   "metadata": {},
   "outputs": [],
   "source": [
    "#Sacrapping Rank\n",
    "\n",
    "ranks = driver.find_elements(By.XPATH,'//td[@class=\"data1\"]')      \n",
    "for i in ranks[1:33]:\n",
    "    Rank.append(i.text)\n",
    "    \n",
    "#Sacrapping Rank\n",
    "names = driver.find_elements(By.XPATH,'//td[@class=\"name\"]')      \n",
    "for i in names[1:33]:\n",
    "    State.append(i.text)\n",
    "\n",
    "#Sacrapping GSDP18\n",
    "gsdp18 = driver.find_elements(By.XPATH,'/html/body/div[3]/div[2]/div[5]/div[1]/div/table/thead/tr[2]/th[2]')\n",
    "for i in gsdp18:\n",
    "    if (i.text)==('18-19: activate to sort column ascending'):\n",
    "        info=driver.find_elements(By.XPATH,'//th[@class=\"data\"]')\n",
    "        for j in info:\n",
    "            GSDP18.append(j.text)\n",
    "    \n",
    "    \n",
    "#Sacrapping GSDP17\n",
    "gsdp17 = driver.find_elements(By.XPATH,'//td[@class=\"data sorting_1\"]') \n",
    "for i in gsdp17[1:33]:\n",
    "    GSDP17.append('No_Information')\n",
    "    \n",
    "#Sacrapping GSDP17\n",
    "share17 = driver.find_elements(By.XPATH,'//td[@class=\"data sorting_1\"]')      \n",
    "for i in share17[1:33]:\n",
    "    Share17.append(i.text)\n",
    "     \n",
    "#Scrapping GDP\n",
    "gdp = driver.find_elements(By.XPATH,'/html/body/div[3]/div[2]/div[5]/div[1]/div/table/thead/tr[2]/th[4]')\n",
    "for i in gdp:\n",
    "    if (i.text)==('2019: activate to sort column ascending'):\n",
    "        info_=driver.find_elements(By.XPATH,'//th[@class=\"data\"]')\n",
    "        for j in info_:\n",
    "            GDPP_billion.append(j.text)\n",
    "    "
   ]
  },
  {
   "cell_type": "code",
   "execution_count": 33,
   "id": "322ce563",
   "metadata": {},
   "outputs": [
    {
     "name": "stdout",
     "output_type": "stream",
     "text": [
      "192 192 0 96 64 0\n"
     ]
    }
   ],
   "source": [
    "print(len(Rank),len(State),len(GSDP18),len(GSDP17),len(Share17), len(GDP_billion))"
   ]
  },
  {
   "cell_type": "markdown",
   "id": "e2f703bf",
   "metadata": {},
   "source": [
    "# Scrape the details of trending repositories on Github.com.\n",
    "Url = https://github.com/\n",
    "You have to find the following details:\n",
    "A) Repository title\n",
    "B) Repository description\n",
    "C) Contributors count\n",
    "D) Language used\n"
   ]
  },
  {
   "cell_type": "code",
   "execution_count": null,
   "id": "be170e02",
   "metadata": {},
   "outputs": [],
   "source": []
  }
 ],
 "metadata": {
  "kernelspec": {
   "display_name": "Python 3 (ipykernel)",
   "language": "python",
   "name": "python3"
  },
  "language_info": {
   "codemirror_mode": {
    "name": "ipython",
    "version": 3
   },
   "file_extension": ".py",
   "mimetype": "text/x-python",
   "name": "python",
   "nbconvert_exporter": "python",
   "pygments_lexer": "ipython3",
   "version": "3.9.7"
  }
 },
 "nbformat": 4,
 "nbformat_minor": 5
}
